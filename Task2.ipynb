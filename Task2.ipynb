{
 "cells": [
  {
   "cell_type": "markdown",
   "metadata": {},
   "source": [
    "## Task 2\n",
    "### Solving linear system by iterative method\n"
   ]
  },
  {
   "cell_type": "code",
   "execution_count": 1,
   "metadata": {},
   "outputs": [],
   "source": [
    "from typing import Literal, Tuple\n",
    "import numpy as np"
   ]
  },
  {
   "cell_type": "code",
   "execution_count": 10,
   "metadata": {},
   "outputs": [
    {
     "name": "stdout",
     "output_type": "stream",
     "text": [
      "[[ 0.  -2. ]\n",
      " [-0.5  0. ]]\n",
      "[1. 1.]\n"
     ]
    }
   ],
   "source": [
    "def convert_linear_to_iterative_form(\n",
    "    matrix: np.ndarray,\n",
    "    right_part: np.ndarray,\n",
    "    matrix_type: Literal['diagonally_dominant', 'definite']\n",
    ") -> Tuple[np.ndarray, np.ndarray]:\n",
    "    H = np.zeros(matrix.shape)\n",
    "    g = np.zeros(matrix.shape[0])\n",
    "\n",
    "    if (matrix_type == 'diagonally_dominant'):\n",
    "        for i in range(matrix.shape[0]):\n",
    "            g[i] = right_part[i] / matrix[i, i]\n",
    "            for j in range(matrix.shape[0]):\n",
    "                if i == j:\n",
    "                    H[i, j] = 0\n",
    "                else:\n",
    "                    H[i, j] = -matrix[i, j] / matrix[i, i]\n",
    "    if (matrix_type == 'definite'):\n",
    "        \n",
    "    return H, g\n",
    "    print(H)\n",
    "    print(g)\n",
    "\n",
    "\n",
    "convert_linear_to_iterative_form(\n",
    "    np.array([[1, 2], [1, 2]], np.int32), np.array([1, 2]), 'diagonally_dominant')\n"
   ]
  }
 ],
 "metadata": {
  "kernelspec": {
   "display_name": "base",
   "language": "python",
   "name": "python3"
  },
  "language_info": {
   "codemirror_mode": {
    "name": "ipython",
    "version": 3
   },
   "file_extension": ".py",
   "mimetype": "text/x-python",
   "name": "python",
   "nbconvert_exporter": "python",
   "pygments_lexer": "ipython3",
   "version": "3.9.15"
  },
  "orig_nbformat": 4
 },
 "nbformat": 4,
 "nbformat_minor": 2
}
