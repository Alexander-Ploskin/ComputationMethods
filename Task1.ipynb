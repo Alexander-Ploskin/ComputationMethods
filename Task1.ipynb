{
 "cells": [
  {
   "attachments": {},
   "cell_type": "markdown",
   "metadata": {},
   "source": [
    "## Task 1\n",
    "### Solving ordinary differential equation of the second order by finite difference method\n",
    "\n",
    "Equation:<br/>\n",
    "$ u''(x) + q(x) u'(x) + r(x) u(x) = f(x) $\n",
    "\n",
    "x $ \\in (a, b) $\n",
    "\n",
    "Boundary values: <br/>\n",
    "$ \\alpha_{1}u(a) − \\alpha_{2}u′(a) = \\alpha, |\\alpha_{1}| + |\\alpha_{2}| \\neq 0, \\alpha_{1}\\alpha_{2} ≥ 0, $ <br/>\n",
    "$ \\beta_{1}u(b) + \\beta_{2}u′(b) = \\beta, |\\beta_{1}| + |\\beta_{2}| \\neq 0, \\beta_{1}\\beta_{2} ≥ 0. $\n"
   ]
  },
  {
   "cell_type": "code",
   "execution_count": 201,
   "metadata": {},
   "outputs": [],
   "source": [
    "import numpy as np\n",
    "from typing import Tuple, Callable\n",
    "from math import e, sin, cos\n",
    "from scipy.sparse import coo_matrix, vstack\n",
    "import matplotlib.pyplot as plt\n",
    "from scipy.sparse.linalg import spsolve\n",
    "\n",
    "Function = Callable[[float], float]\n",
    "Grid = Tuple[np.ndarray, float]\n",
    "BoundaryValue = Tuple[float, float, float]"
   ]
  },
  {
   "attachments": {},
   "cell_type": "markdown",
   "metadata": {},
   "source": [
    "#### Solves linear algebraic systems with tridiagonal matrix\n",
    "Uses [tridiagonal matrix algorighm](https://en.wikipedia.org/wiki/Tridiagonal_matrix_algorithm)\n"
   ]
  },
  {
   "cell_type": "code",
   "execution_count": 202,
   "metadata": {},
   "outputs": [],
   "source": [
    "def solve_tridiagonal_system(left_side: np.ndarray, right_side: np.ndarray) -> np.ndarray:\n",
    "    return spsolve(left_side, right_side)\n",
    "    alphas = []\n",
    "    betas = []\n",
    "\n",
    "    for i in range(left_side.shape[0]):\n",
    "        y = left_side[i, i] if i == 0 else left_side[i, i] + left_side[i, i - 1] * alphas[i - 1]\n",
    "        alphas.append(0 if i == (left_side.shape[0] - 1) else -1 * left_side[i, i + 1] / y)\n",
    "        betas.append(right_side[i] / y if i == 0 else (right_side[i] - left_side[i, i - 1] * betas[i - 1]) / y)\n",
    "\n",
    "    reversed_solution = []\n",
    "    for i in reversed(range(left_side.shape[0])):\n",
    "        reversed_solution.append(\n",
    "            betas[i]\n",
    "            if i == (left_side.shape[0] - 1) else\n",
    "            alphas[i] * reversed_solution[left_side.shape[0] - i - 2] + betas[i]\n",
    "        )\n",
    "    return np.array(reversed_solution[::-1])"
   ]
  },
  {
   "cell_type": "code",
   "execution_count": 183,
   "metadata": {},
   "outputs": [],
   "source": [
    "def get_true_error_norm(true_solution: np.ndarray, actual_solution: np.ndarray) -> float:\n",
    "    return abs(true_solution - actual_solution).max()"
   ]
  },
  {
   "cell_type": "code",
   "execution_count": 188,
   "metadata": {},
   "outputs": [],
   "source": [
    "def get_richardson_error_norm(current_solution: np.ndarray, next_solution: np.ndarray, r=2, p=2) -> float:\n",
    "    n = len(current_solution)\n",
    "    sum = 0\n",
    "    [sum := sum + get_richardson_error(current_solution[i], next_solution[i * 2], r, p) for i in range(n)]\n",
    "    return sum / n\n",
    "\n",
    "\n",
    "def get_richardson_error(curent_solution, next_solution, r=2, p=2) -> float:\n",
    "    return ((curent_solution - next_solution) / (r ** p - 1)) ** 2\n",
    "\n",
    "\n",
    "def get_richardson_clarified_solution(current_solution, next_solution, r=2, p=2):\n",
    "    n = len(next_solution)\n",
    "    clarified_solution = np.zeros(n)\n",
    "    errors = [0] * n\n",
    "    for i in range(len(current_solution)):\n",
    "        errors[i * 2] = get_richardson_error(current_solution[i], next_solution[i * 2], r, p)\n",
    "    for i in range(len(current_solution) - 1):\n",
    "        errors[i * 2 + 1] = (errors[i * 2] + errors[i * 2 + 2]) / 2\n",
    "    errors[-1] = errors[-2]\n",
    "\n",
    "    for i in range(n):\n",
    "        clarified_solution[i] = next_solution[i] + errors[i]\n",
    "\n",
    "    return clarified_solution"
   ]
  },
  {
   "attachments": {},
   "cell_type": "markdown",
   "metadata": {},
   "source": [
    "#### Transforms differential equation into an equal algebraic system\n",
    "\n",
    "The method is based on replacing derivative with finite differences of $O(h^{2})$ order.\n",
    "An approximated function is represented by values in points of the grid."
   ]
  },
  {
   "cell_type": "code",
   "execution_count": 14,
   "metadata": {},
   "outputs": [],
   "source": [
    "def solve_equation(\n",
    "        q: Function,\n",
    "        r: Function,\n",
    "        f: Function,\n",
    "        grid: Grid,\n",
    "        left_boundary_value: BoundaryValue,\n",
    "        right_boundary_value: BoundaryValue\n",
    "        ) -> np.ndarray:\n",
    "    alpha_1, alpha_2, alpha = left_boundary_value\n",
    "    beta_1, beta_2, beta = right_boundary_value\n",
    "\n",
    "    points, step = grid\n",
    "\n",
    "    first_row = [\n",
    "        alpha_1 + 3 / (2 * step) * alpha_2,\n",
    "        -2 * alpha_2 / step,\n",
    "        alpha_2 / (2 * step),\n",
    "    ]\n",
    "    first_row.extend([0] * (len(points) - 3))\n",
    "\n",
    "    left_side = coo_matrix([first_row])\n",
    "    right_side = [alpha]\n",
    "\n",
    "     ## Finite differences for inner points of the grid\n",
    "    for index, point in enumerate(points[1:-1]):\n",
    "        row = [0] * index\n",
    "\n",
    "        row.append(1 / (step ** 2) - q(point) / (2 * step))\n",
    "        row.append(-2 / (step ** 2) - r(point))\n",
    "        row.append(1 / (step ** 2) + q(point) / (2 * step))\n",
    "\n",
    "        row.extend([0] * (len(points) - index - 3))\n",
    "\n",
    "        left_side = vstack([left_side, row])\n",
    "        right_side.append(f(point))\n",
    "\n",
    "    last_row = [float(0)] * (len(points) - 3)\n",
    "    last_row.extend([\n",
    "        beta_2 / (2 * step),\n",
    "        -2 * beta_2 / step,\n",
    "        beta_1 + 3 * beta_2 / (2 * step),\n",
    "    ])\n",
    "\n",
    "    left_side = vstack([left_side, last_row], format='lil')\n",
    "    right_side.append(beta)\n",
    "\n",
    "    return solve_tridiagonal_system(left_side, right_side)\n",
    "\n",
    "    "
   ]
  },
  {
   "cell_type": "code",
   "execution_count": 178,
   "metadata": {},
   "outputs": [],
   "source": [
    "def solve_equation_with_accuracy(\n",
    "        a: float,\n",
    "        b: float,\n",
    "        q: Function,\n",
    "        r: Function,\n",
    "        f: Function,\n",
    "        left_boundary_value: BoundaryValue,\n",
    "        right_boundary_value: BoundaryValue,\n",
    "        epsilon: float) -> dict:\n",
    "    grid_size = 4\n",
    "    grid = np.linspace(a, b, grid_size, retstep=True)\n",
    "    next_solution = solve_equation(q, r, f, grid, left_boundary_value, right_boundary_value)\n",
    "    error = float(\"inf\")\n",
    "    grid_sizes = []\n",
    "    errors = []\n",
    "    while error >= epsilon:\n",
    "        current_solution = next_solution\n",
    "        grid_size *= 2\n",
    "        grid = np.linspace(a, b, grid_size, retstep=True)\n",
    "        next_solution = solve_equation(q, r, f, grid, left_boundary_value, right_boundary_value) \n",
    "        error =  get_richardson_error_norm(current_solution, next_solution)\n",
    "        grid_sizes.append(grid_size)\n",
    "        errors.append(error)\n",
    "    clarified_solution = get_richardson_clarified_solution(current_solution, next_solution)\n",
    "    \n",
    "    result = {}\n",
    "    result[\"clarified_solution\"] = clarified_solution\n",
    "    result[\"solution\"] = next_solution\n",
    "    result[\"grid\"] = grid\n",
    "    result[\"grid_sizes\"] = grid_sizes\n",
    "    result[\"errors\"] = errors\n",
    "    \n",
    "    return result "
   ]
  },
  {
   "cell_type": "code",
   "execution_count": 179,
   "metadata": {},
   "outputs": [],
   "source": [
    "def run_test(q, r, f, a, b, left_boundary_value, right_boundary_value, epsilon, u=None):\n",
    "    result = solve_equation_with_accuracy(a, b, q, r, f, left_boundary_value, right_boundary_value, epsilon)\n",
    "    points, step = result[\"grid\"]\n",
    "    \n",
    "    if u is not None:\n",
    "        true_solution = []\n",
    "        for point in points:\n",
    "            true_solution.append(u(point))\n",
    "        true_error = get_true_error_norm(true_solution, result[\"solution\"])\n",
    "\n",
    "        print(\"Real Error: \", true_error)\n",
    "    \n",
    "    print(\"Last Error: \", result[\"errors\"][-1])\n",
    "    print(\"Last Grid Size: \", len(points))\n",
    "    print(\"Last Step: \", step)\n",
    "\n",
    "    plt.figure(figsize=(6, 3))\n",
    "    plt.loglog(result[\"grid_sizes\"], result[\"errors\"], label='Errors', color='red')\n",
    "    plt.xlabel('grid size')\n",
    "    plt.ylabel('error norm')\n",
    "    plt.grid()\n",
    "    plt.title('Errors')\n",
    "    plt.show()"
   ]
  },
  {
   "cell_type": "markdown",
   "metadata": {},
   "source": [
    "### Test 1\n",
    "#### Simple conditions\n",
    "\n",
    "$ u = xe^{sin(x)} $ </br>\n",
    "$ u(-2) = -2e^{sin(-2)} $ </br>\n",
    "$ u(6) = 6e^{sin(6)} $\n",
    "\n",
    "$ \\varepsilon = 10^{-6} $"
   ]
  },
  {
   "cell_type": "code",
   "execution_count": 203,
   "metadata": {},
   "outputs": [
    {
     "name": "stderr",
     "output_type": "stream",
     "text": [
      "c:\\Users\\plosk\\anaconda3\\lib\\site-packages\\scipy\\sparse\\linalg\\_dsolve\\linsolve.py:168: SparseEfficiencyWarning: spsolve requires A be CSC or CSR matrix format\n",
      "  warn('spsolve requires A be CSC or CSR matrix format',\n"
     ]
    },
    {
     "name": "stdout",
     "output_type": "stream",
     "text": [
      "Real Error:  2.5957564009360112e-06\n",
      "Last Error:  6.498992257007092e-07\n",
      "Last Grid Size:  4096\n",
      "Last Step:  0.0019536019536019536\n"
     ]
    },
    {
     "data": {
      "image/png": "[encoded data removed]",
      "text/plain": [
       "<Figure size 600x300 with 1 Axes>"
      ]
     },
     "metadata": {},
     "output_type": "display_data"
    }
   ],
   "source": [
    "u = lambda x: x * e ** sin(x)\n",
    "du = lambda x: e ** sin(x) * (x * cos(x) + 1)\n",
    "ddu = lambda x: e ** sin(x) * (-x * sin(x) + x * cos(x) ** 2 + 2 * cos(x))\n",
    "\n",
    "q = lambda x: -x\n",
    "r = lambda x: 1\n",
    "f = lambda x: ddu(x) + q(x) * du(x) - r(x) * u(x)\n",
    "\n",
    "a = -2\n",
    "b = 6\n",
    "\n",
    "alpha_1 = 1\n",
    "alpha_2 = 0\n",
    "alpha = -2 * e ** sin(-2)\n",
    "\n",
    "left_boundary_value = (alpha_1, alpha_2, alpha)\n",
    "\n",
    "beta_1 = 1\n",
    "beta_2 = 0\n",
    "beta = 6 * e ** sin(6)\n",
    "\n",
    "right_boundary_value = (beta_1, beta_2, beta)\n",
    "\n",
    "epsilon = 1 / 1000000\n",
    "\n",
    "run_test(q, r, f, a, b, left_boundary_value, right_boundary_value, epsilon, u)\n"
   ]
  },
  {
   "cell_type": "markdown",
   "metadata": {},
   "source": [
    "### Test 2\n",
    "#### General conditions\n",
    "\n",
    "$ u(x) = x^{5} - 5x^{4} + 5x^{3} + 5x^{2} - 6x $ </br>\n",
    "$ 2u(-1) + 3u'(-1) = -24 $ </br>\n",
    "$ 3u(3) + \\frac{3}{8}u'(3) = 3 $"
   ]
  },
  {
   "cell_type": "code",
   "execution_count": 205,
   "metadata": {},
   "outputs": [
    {
     "ename": "KeyboardInterrupt",
     "evalue": "",
     "output_type": "error",
     "traceback": [
      "\u001b[1;31m---------------------------------------------------------------------------\u001b[0m",
      "\u001b[1;31mKeyboardInterrupt\u001b[0m                         Traceback (most recent call last)",
      "\u001b[1;32m~\\AppData\\Local\\Temp\\ipykernel_2024\\1640302183.py\u001b[0m in \u001b[0;36m<module>\u001b[1;34m\u001b[0m\n\u001b[0;32m     24\u001b[0m \u001b[0mepsilon\u001b[0m \u001b[1;33m=\u001b[0m \u001b[1;36m1\u001b[0m \u001b[1;33m/\u001b[0m \u001b[1;36m10000000\u001b[0m\u001b[1;33m\u001b[0m\u001b[1;33m\u001b[0m\u001b[0m\n\u001b[0;32m     25\u001b[0m \u001b[1;33m\u001b[0m\u001b[0m\n\u001b[1;32m---> 26\u001b[1;33m \u001b[0mrun_test\u001b[0m\u001b[1;33m(\u001b[0m\u001b[0mq\u001b[0m\u001b[1;33m,\u001b[0m \u001b[0mr\u001b[0m\u001b[1;33m,\u001b[0m \u001b[0mf\u001b[0m\u001b[1;33m,\u001b[0m \u001b[0ma\u001b[0m\u001b[1;33m,\u001b[0m \u001b[0mb\u001b[0m\u001b[1;33m,\u001b[0m \u001b[0mleft_boundary_value\u001b[0m\u001b[1;33m,\u001b[0m \u001b[0mright_boundary_value\u001b[0m\u001b[1;33m,\u001b[0m \u001b[0mepsilon\u001b[0m\u001b[1;33m,\u001b[0m \u001b[0mu\u001b[0m\u001b[1;33m)\u001b[0m\u001b[1;33m\u001b[0m\u001b[1;33m\u001b[0m\u001b[0m\n\u001b[0m",
      "\u001b[1;32m~\\AppData\\Local\\Temp\\ipykernel_2024\\3521713930.py\u001b[0m in \u001b[0;36mrun_test\u001b[1;34m(q, r, f, a, b, left_boundary_value, right_boundary_value, epsilon, u)\u001b[0m\n\u001b[0;32m      1\u001b[0m \u001b[1;32mdef\u001b[0m \u001b[0mrun_test\u001b[0m\u001b[1;33m(\u001b[0m\u001b[0mq\u001b[0m\u001b[1;33m,\u001b[0m \u001b[0mr\u001b[0m\u001b[1;33m,\u001b[0m \u001b[0mf\u001b[0m\u001b[1;33m,\u001b[0m \u001b[0ma\u001b[0m\u001b[1;33m,\u001b[0m \u001b[0mb\u001b[0m\u001b[1;33m,\u001b[0m \u001b[0mleft_boundary_value\u001b[0m\u001b[1;33m,\u001b[0m \u001b[0mright_boundary_value\u001b[0m\u001b[1;33m,\u001b[0m \u001b[0mepsilon\u001b[0m\u001b[1;33m,\u001b[0m \u001b[0mu\u001b[0m\u001b[1;33m=\u001b[0m\u001b[1;32mNone\u001b[0m\u001b[1;33m)\u001b[0m\u001b[1;33m:\u001b[0m\u001b[1;33m\u001b[0m\u001b[1;33m\u001b[0m\u001b[0m\n\u001b[1;32m----> 2\u001b[1;33m     \u001b[0mresult\u001b[0m \u001b[1;33m=\u001b[0m \u001b[0msolve_equation_with_accuracy\u001b[0m\u001b[1;33m(\u001b[0m\u001b[0ma\u001b[0m\u001b[1;33m,\u001b[0m \u001b[0mb\u001b[0m\u001b[1;33m,\u001b[0m \u001b[0mq\u001b[0m\u001b[1;33m,\u001b[0m \u001b[0mr\u001b[0m\u001b[1;33m,\u001b[0m \u001b[0mf\u001b[0m\u001b[1;33m,\u001b[0m \u001b[0mleft_boundary_value\u001b[0m\u001b[1;33m,\u001b[0m \u001b[0mright_boundary_value\u001b[0m\u001b[1;33m,\u001b[0m \u001b[0mepsilon\u001b[0m\u001b[1;33m)\u001b[0m\u001b[1;33m\u001b[0m\u001b[1;33m\u001b[0m\u001b[0m\n\u001b[0m\u001b[0;32m      3\u001b[0m     \u001b[0mpoints\u001b[0m\u001b[1;33m,\u001b[0m \u001b[0mstep\u001b[0m \u001b[1;33m=\u001b[0m \u001b[0mresult\u001b[0m\u001b[1;33m[\u001b[0m\u001b[1;34m\"grid\"\u001b[0m\u001b[1;33m]\u001b[0m\u001b[1;33m\u001b[0m\u001b[1;33m\u001b[0m\u001b[0m\n\u001b[0;32m      4\u001b[0m \u001b[1;33m\u001b[0m\u001b[0m\n\u001b[0;32m      5\u001b[0m     \u001b[1;32mif\u001b[0m \u001b[0mu\u001b[0m \u001b[1;32mis\u001b[0m \u001b[1;32mnot\u001b[0m \u001b[1;32mNone\u001b[0m\u001b[1;33m:\u001b[0m\u001b[1;33m\u001b[0m\u001b[1;33m\u001b[0m\u001b[0m\n",
      "\u001b[1;32m~\\AppData\\Local\\Temp\\ipykernel_2024\\3060384913.py\u001b[0m in \u001b[0;36msolve_equation_with_accuracy\u001b[1;34m(a, b, q, r, f, left_boundary_value, right_boundary_value, epsilon)\u001b[0m\n\u001b[0;32m     18\u001b[0m         \u001b[0mgrid_size\u001b[0m \u001b[1;33m*=\u001b[0m \u001b[1;36m2\u001b[0m\u001b[1;33m\u001b[0m\u001b[1;33m\u001b[0m\u001b[0m\n\u001b[0;32m     19\u001b[0m         \u001b[0mgrid\u001b[0m \u001b[1;33m=\u001b[0m \u001b[0mnp\u001b[0m\u001b[1;33m.\u001b[0m\u001b[0mlinspace\u001b[0m\u001b[1;33m(\u001b[0m\u001b[0ma\u001b[0m\u001b[1;33m,\u001b[0m \u001b[0mb\u001b[0m\u001b[1;33m,\u001b[0m \u001b[0mgrid_size\u001b[0m\u001b[1;33m,\u001b[0m \u001b[0mretstep\u001b[0m\u001b[1;33m=\u001b[0m\u001b[1;32mTrue\u001b[0m\u001b[1;33m)\u001b[0m\u001b[1;33m\u001b[0m\u001b[1;33m\u001b[0m\u001b[0m\n\u001b[1;32m---> 20\u001b[1;33m         \u001b[0mnext_solution\u001b[0m \u001b[1;33m=\u001b[0m \u001b[0msolve_equation\u001b[0m\u001b[1;33m(\u001b[0m\u001b[0mq\u001b[0m\u001b[1;33m,\u001b[0m \u001b[0mr\u001b[0m\u001b[1;33m,\u001b[0m \u001b[0mf\u001b[0m\u001b[1;33m,\u001b[0m \u001b[0mgrid\u001b[0m\u001b[1;33m,\u001b[0m \u001b[0mleft_boundary_value\u001b[0m\u001b[1;33m,\u001b[0m \u001b[0mright_boundary_value\u001b[0m\u001b[1;33m)\u001b[0m\u001b[1;33m\u001b[0m\u001b[1;33m\u001b[0m\u001b[0m\n\u001b[0m\u001b[0;32m     21\u001b[0m         \u001b[0merror\u001b[0m \u001b[1;33m=\u001b[0m  \u001b[0mget_richardson_error_norm\u001b[0m\u001b[1;33m(\u001b[0m\u001b[0mcurrent_solution\u001b[0m\u001b[1;33m,\u001b[0m \u001b[0mnext_solution\u001b[0m\u001b[1;33m)\u001b[0m\u001b[1;33m\u001b[0m\u001b[1;33m\u001b[0m\u001b[0m\n\u001b[0;32m     22\u001b[0m         \u001b[0mgrid_sizes\u001b[0m\u001b[1;33m.\u001b[0m\u001b[0mappend\u001b[0m\u001b[1;33m(\u001b[0m\u001b[0mgrid_size\u001b[0m\u001b[1;33m)\u001b[0m\u001b[1;33m\u001b[0m\u001b[1;33m\u001b[0m\u001b[0m\n",
      "\u001b[1;32m~\\AppData\\Local\\Temp\\ipykernel_2024\\1659833756.py\u001b[0m in \u001b[0;36msolve_equation\u001b[1;34m(q, r, f, grid, left_boundary_value, right_boundary_value)\u001b[0m\n\u001b[0;32m     32\u001b[0m         \u001b[0mrow\u001b[0m\u001b[1;33m.\u001b[0m\u001b[0mextend\u001b[0m\u001b[1;33m(\u001b[0m\u001b[1;33m[\u001b[0m\u001b[1;36m0\u001b[0m\u001b[1;33m]\u001b[0m \u001b[1;33m*\u001b[0m \u001b[1;33m(\u001b[0m\u001b[0mlen\u001b[0m\u001b[1;33m(\u001b[0m\u001b[0mpoints\u001b[0m\u001b[1;33m)\u001b[0m \u001b[1;33m-\u001b[0m \u001b[0mindex\u001b[0m \u001b[1;33m-\u001b[0m \u001b[1;36m3\u001b[0m\u001b[1;33m)\u001b[0m\u001b[1;33m)\u001b[0m\u001b[1;33m\u001b[0m\u001b[1;33m\u001b[0m\u001b[0m\n\u001b[0;32m     33\u001b[0m \u001b[1;33m\u001b[0m\u001b[0m\n\u001b[1;32m---> 34\u001b[1;33m         \u001b[0mleft_side\u001b[0m \u001b[1;33m=\u001b[0m \u001b[0mvstack\u001b[0m\u001b[1;33m(\u001b[0m\u001b[1;33m[\u001b[0m\u001b[0mleft_side\u001b[0m\u001b[1;33m,\u001b[0m \u001b[0mrow\u001b[0m\u001b[1;33m]\u001b[0m\u001b[1;33m)\u001b[0m\u001b[1;33m\u001b[0m\u001b[1;33m\u001b[0m\u001b[0m\n\u001b[0m\u001b[0;32m     35\u001b[0m         \u001b[0mright_side\u001b[0m\u001b[1;33m.\u001b[0m\u001b[0mappend\u001b[0m\u001b[1;33m(\u001b[0m\u001b[0mf\u001b[0m\u001b[1;33m(\u001b[0m\u001b[0mpoint\u001b[0m\u001b[1;33m)\u001b[0m\u001b[1;33m)\u001b[0m\u001b[1;33m\u001b[0m\u001b[1;33m\u001b[0m\u001b[0m\n\u001b[0;32m     36\u001b[0m \u001b[1;33m\u001b[0m\u001b[0m\n",
      "\u001b[1;32mc:\\Users\\plosk\\anaconda3\\lib\\site-packages\\scipy\\sparse\\_construct.py\u001b[0m in \u001b[0;36mvstack\u001b[1;34m(blocks, format, dtype)\u001b[0m\n\u001b[0;32m    564\u001b[0m \u001b[1;33m\u001b[0m\u001b[0m\n\u001b[0;32m    565\u001b[0m     \"\"\"\n\u001b[1;32m--> 566\u001b[1;33m     \u001b[1;32mreturn\u001b[0m \u001b[0mbmat\u001b[0m\u001b[1;33m(\u001b[0m\u001b[1;33m[\u001b[0m\u001b[1;33m[\u001b[0m\u001b[0mb\u001b[0m\u001b[1;33m]\u001b[0m \u001b[1;32mfor\u001b[0m \u001b[0mb\u001b[0m \u001b[1;32min\u001b[0m \u001b[0mblocks\u001b[0m\u001b[1;33m]\u001b[0m\u001b[1;33m,\u001b[0m \u001b[0mformat\u001b[0m\u001b[1;33m=\u001b[0m\u001b[0mformat\u001b[0m\u001b[1;33m,\u001b[0m \u001b[0mdtype\u001b[0m\u001b[1;33m=\u001b[0m\u001b[0mdtype\u001b[0m\u001b[1;33m)\u001b[0m\u001b[1;33m\u001b[0m\u001b[1;33m\u001b[0m\u001b[0m\n\u001b[0m\u001b[0;32m    567\u001b[0m \u001b[1;33m\u001b[0m\u001b[0m\n\u001b[0;32m    568\u001b[0m \u001b[1;33m\u001b[0m\u001b[0m\n",
      "\u001b[1;32mc:\\Users\\plosk\\anaconda3\\lib\\site-packages\\scipy\\sparse\\_construct.py\u001b[0m in \u001b[0;36mbmat\u001b[1;34m(blocks, format, dtype)\u001b[0m\n\u001b[0;32m    694\u001b[0m         \u001b[0mB\u001b[0m \u001b[1;33m=\u001b[0m \u001b[0mblocks\u001b[0m\u001b[1;33m[\u001b[0m\u001b[0mi\u001b[0m\u001b[1;33m,\u001b[0m \u001b[0mj\u001b[0m\u001b[1;33m]\u001b[0m\u001b[1;33m\u001b[0m\u001b[1;33m\u001b[0m\u001b[0m\n\u001b[0;32m    695\u001b[0m         \u001b[0midx\u001b[0m \u001b[1;33m=\u001b[0m \u001b[0mslice\u001b[0m\u001b[1;33m(\u001b[0m\u001b[0mnnz\u001b[0m\u001b[1;33m,\u001b[0m \u001b[0mnnz\u001b[0m \u001b[1;33m+\u001b[0m \u001b[0mB\u001b[0m\u001b[1;33m.\u001b[0m\u001b[0mnnz\u001b[0m\u001b[1;33m)\u001b[0m\u001b[1;33m\u001b[0m\u001b[1;33m\u001b[0m\u001b[0m\n\u001b[1;32m--> 696\u001b[1;33m         \u001b[0mdata\u001b[0m\u001b[1;33m[\u001b[0m\u001b[0midx\u001b[0m\u001b[1;33m]\u001b[0m \u001b[1;33m=\u001b[0m \u001b[0mB\u001b[0m\u001b[1;33m.\u001b[0m\u001b[0mdata\u001b[0m\u001b[1;33m\u001b[0m\u001b[1;33m\u001b[0m\u001b[0m\n\u001b[0m\u001b[0;32m    697\u001b[0m         \u001b[0mnp\u001b[0m\u001b[1;33m.\u001b[0m\u001b[0madd\u001b[0m\u001b[1;33m(\u001b[0m\u001b[0mB\u001b[0m\u001b[1;33m.\u001b[0m\u001b[0mrow\u001b[0m\u001b[1;33m,\u001b[0m \u001b[0mrow_offsets\u001b[0m\u001b[1;33m[\u001b[0m\u001b[0mi\u001b[0m\u001b[1;33m]\u001b[0m\u001b[1;33m,\u001b[0m \u001b[0mout\u001b[0m\u001b[1;33m=\u001b[0m\u001b[0mrow\u001b[0m\u001b[1;33m[\u001b[0m\u001b[0midx\u001b[0m\u001b[1;33m]\u001b[0m\u001b[1;33m,\u001b[0m \u001b[0mdtype\u001b[0m\u001b[1;33m=\u001b[0m\u001b[0midx_dtype\u001b[0m\u001b[1;33m)\u001b[0m\u001b[1;33m\u001b[0m\u001b[1;33m\u001b[0m\u001b[0m\n\u001b[0;32m    698\u001b[0m         \u001b[0mnp\u001b[0m\u001b[1;33m.\u001b[0m\u001b[0madd\u001b[0m\u001b[1;33m(\u001b[0m\u001b[0mB\u001b[0m\u001b[1;33m.\u001b[0m\u001b[0mcol\u001b[0m\u001b[1;33m,\u001b[0m \u001b[0mcol_offsets\u001b[0m\u001b[1;33m[\u001b[0m\u001b[0mj\u001b[0m\u001b[1;33m]\u001b[0m\u001b[1;33m,\u001b[0m \u001b[0mout\u001b[0m\u001b[1;33m=\u001b[0m\u001b[0mcol\u001b[0m\u001b[1;33m[\u001b[0m\u001b[0midx\u001b[0m\u001b[1;33m]\u001b[0m\u001b[1;33m,\u001b[0m \u001b[0mdtype\u001b[0m\u001b[1;33m=\u001b[0m\u001b[0midx_dtype\u001b[0m\u001b[1;33m)\u001b[0m\u001b[1;33m\u001b[0m\u001b[1;33m\u001b[0m\u001b[0m\n",
      "\u001b[1;31mKeyboardInterrupt\u001b[0m: "
     ]
    }
   ],
   "source": [
    "\n",
    "\n",
    "u = lambda x: x ** 5 - 5 * x ** 4 + 5 * x ** 3 + 5 * x ** 2 - 6 * x\n",
    "du = lambda x: 5 * x ** 4 - 20 * x ** 3 + 15 * x ** 2 + 10 * x - 6\n",
    "ddu = lambda x: 10 * (2 * x ** 3 - 6 * x ** 2 + 3 * x + 1)\n",
    "\n",
    "q = lambda x: 5\n",
    "r = lambda x: -x\n",
    "f = lambda x: ddu(x) + q(x) * du(x) - r(x) * u(x)\n",
    "\n",
    "a = -1\n",
    "b = 3\n",
    "\n",
    "alpha_1 = 2\n",
    "alpha_2 = 1\n",
    "alpha = -24\n",
    "\n",
    "left_boundary_value = (alpha_1, alpha_2, alpha)\n",
    "\n",
    "beta_1 = 3\n",
    "beta_2 = 1 / 8\n",
    "beta = 3\n",
    "\n",
    "right_boundary_value = (beta_1, beta_2, beta)\n",
    "\n",
    "epsilon = 1 / 1000000\n",
    "\n",
    "run_test(q, r, f, a, b, left_boundary_value, right_boundary_value, epsilon, u)"
   ]
  }
 ],
 "metadata": {
  "kernelspec": {
   "display_name": "base",
   "language": "python",
   "name": "python3"
  },
  "language_info": {
   "codemirror_mode": {
    "name": "ipython",
    "version": 3
   },
   "file_extension": ".py",
   "mimetype": "text/x-python",
   "name": "python",
   "nbconvert_exporter": "python",
   "pygments_lexer": "ipython3",
   "version": "3.9.15"
  },
  "orig_nbformat": 4
 },
 "nbformat": 4,
 "nbformat_minor": 2
}
