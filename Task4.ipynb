{
 "cells": [
  {
   "cell_type": "markdown",
   "metadata": {},
   "source": [
    "## Task 4\n",
    "### Solving system of linear equations with LU decomposition\n",
    "\n"
   ]
  },
  {
   "cell_type": "code",
   "execution_count": 199,
   "metadata": {},
   "outputs": [],
   "source": [
    "import numpy as np"
   ]
  },
  {
   "cell_type": "markdown",
   "metadata": {},
   "source": [
    "Decomposes A as the product of lower triangular L with 1 on the main diagonal and upper triangular U\n",
    "\n",
    "LU = A\n",
    "\n",
    "Example:\n",
    "\\begin{equation}\n",
    "    \\begin{bmatrix}\n",
    "        4 & 3\\\\\n",
    "        6 & 3\n",
    "    \\end{bmatrix}\n",
    "    =\n",
    "    \\begin{bmatrix}\n",
    "        \\ell_{11} & 0 \\\\\n",
    "        \\ell_{21} & \\ell_{22} \\\\\n",
    "    \\end{bmatrix}\n",
    "    \\begin{bmatrix}\n",
    "        u_{11} & u_{12} \\\\\n",
    "        0 & u_{22} \\\\\n",
    "    \\end{bmatrix}\n",
    "\\end{equation}\n",
    "\n",
    "\\begin{align}\n",
    "  \\ell_{11} \\cdot u_{11} +         0 \\cdot      0 &= 4 \\\\\n",
    "  \\ell_{11} \\cdot u_{12} +         0 \\cdot u_{22} &= 3 \\\\\n",
    "  \\ell_{21} \\cdot u_{11} + \\ell_{22} \\cdot      0 &= 6 \\\\\n",
    "  \\ell_{21} \\cdot u_{12} + \\ell_{22} \\cdot u_{22} &= 3.\n",
    "\\end{align}\n",
    "\n",
    "\\begin{align}\n",
    "\\ell_{11} = \\ell_{22} &=  1   \\\\\n",
    "            \\ell_{21} &=  1.5 \\\\\n",
    "               u_{11} &=  4   \\\\\n",
    "               u_{12} &=  3   \\\\\n",
    "               u_{22} &= -1.5\n",
    "\\end{align}"
   ]
  },
  {
   "cell_type": "code",
   "execution_count": 202,
   "metadata": {},
   "outputs": [],
   "source": [
    "def decompose_to_lu(a_matrix):\n",
    "    matrix_size = a_matrix.shape[0]\n",
    "    l_matrix = np.zeros((matrix_size, matrix_size))\n",
    "    u_matrix = np.zeros((matrix_size, matrix_size))\n",
    "\n",
    "    for i in range(matrix_size):\n",
    "        for k in range(i, matrix_size):\n",
    "            lu_sum = sum([l_matrix[i][j] * u_matrix[j][k] for j in range(i)])\n",
    "            u_matrix[i][k] = a_matrix[i][k] - lu_sum\n",
    "\n",
    "        for k in range(i, matrix_size):\n",
    "            if i == k:\n",
    "                l_matrix[i][i] = 1\n",
    "            else:\n",
    "                lu_sum = sum([l_matrix[k][j] * u_matrix[j][i] for j in range(i)])\n",
    "                l_matrix[k][i] = (a_matrix[k][i] - lu_sum) / u_matrix[i][i]\n",
    "\n",
    "    return l_matrix, u_matrix"
   ]
  },
  {
   "cell_type": "markdown",
   "metadata": {},
   "source": [
    "Solves Ax = b equation using LU decomposition\n",
    "\n",
    "1. Solve Ly = b for y\n",
    "2. Solve Ux = y for x"
   ]
  },
  {
   "cell_type": "code",
   "execution_count": 205,
   "metadata": {},
   "outputs": [],
   "source": [
    "def solve_with_lu(l_matrix, u_matrix, b_vector):\n",
    "    matrix_size = l_matrix.shape[0]\n",
    "    y_vector = np.zeros(matrix_size)\n",
    "    for i in range(matrix_size):\n",
    "        y_vector[i] = b_vector[i] - sum([l_matrix[i][k] * y_vector[k] for k in range(i)])\n",
    "\n",
    "    x_vector = np.zeros(matrix_size)\n",
    "    for i in range(matrix_size - 1, -1, -1):\n",
    "        x_vector[i] = (y_vector[i] - sum([u_matrix[i][k] * x_vector[k] for k in range(i + 1, matrix_size)])) \\\n",
    "                         / u_matrix[i][i]\n",
    "\n",
    "    return x_vector"
   ]
  },
  {
   "cell_type": "code",
   "execution_count": 116,
   "metadata": {},
   "outputs": [],
   "source": [
    "def calculate_spectral_conditionality_number(matrix):\n",
    "    matrix_norm = np.linalg.norm(matrix)\n",
    "    inverse_matrix = np.linalg.inv(matrix)\n",
    "    inverse_matrix_norm = np.linalg.norm(inverse_matrix)\n",
    "\n",
    "    return matrix_norm * inverse_matrix_norm"
   ]
  },
  {
   "cell_type": "code",
   "execution_count": 59,
   "metadata": {},
   "outputs": [],
   "source": [
    "def get_matrix_major_minors(matrix):\n",
    "    minors = []\n",
    "    rows, cols = matrix.shape\n",
    "    for i in range(rows):\n",
    "        minor = matrix[np.arange(rows) <= i][:, np.arange(cols) <= i]\n",
    "        minors.append(minor)\n",
    "\n",
    "    return minors\n",
    "\n",
    "def generate_matrix_with_nonzero_major_minors(size):\n",
    "    matrix = np.random.rand(size, size)\n",
    "    while not all(np.linalg.det(minor) != 0 for minor in get_matrix_major_minors(matrix)):\n",
    "        matrix = np.random.rand(size, size)\n",
    "    return matrix\n"
   ]
  },
  {
   "cell_type": "markdown",
   "metadata": {},
   "source": [
    "### Test 1\n",
    "#### Simple matrix\n",
    "\n",
    "\\begin{equation}\n",
    "    \\begin{bmatrix}\n",
    "        1 & 2 & 3 \\\\\n",
    "        4 & -1 & 0 \\\\\n",
    "        -2 & 5 & 1\n",
    "    \\end{bmatrix}\n",
    "    \\begin{bmatrix}\n",
    "        1 \\\\\n",
    "        2 \\\\\n",
    "        3\n",
    "    \\end{bmatrix}\n",
    "    =\n",
    "    \\begin{bmatrix}\n",
    "        14 \\\\\n",
    "        2 \\\\\n",
    "        11\n",
    "    \\end{bmatrix}\n",
    "\\end{equation}\n",
    "\n",
    "\\begin{align}\n",
    "  \\text{L:} \\quad &\n",
    "  \\begin{bmatrix}\n",
    "    1 & 0 & 0 \\\\\n",
    "    4 & 1 & 0 \\\\\n",
    "    -2 & -1 & 1 \\\\\n",
    "  \\end{bmatrix} \\\\\n",
    "  \\text{U:} \\quad &\n",
    "  \\begin{bmatrix}\n",
    "    1 & 2 & 3 \\\\\n",
    "    0 & -9 & -12 \\\\\n",
    "    0 & 0 & -5 \\\\\n",
    "  \\end{bmatrix}\n",
    "\\end{align}"
   ]
  },
  {
   "cell_type": "code",
   "execution_count": 206,
   "metadata": {},
   "outputs": [
    {
     "name": "stdout",
     "output_type": "stream",
     "text": [
      "The answer: \n",
      " [1. 2. 3.]\n",
      "L: \n",
      " [[ 1.  0.  0.]\n",
      " [ 4.  1.  0.]\n",
      " [-2. -1.  1.]]\n",
      "U: \n",
      " [[  1.   2.   3.]\n",
      " [  0.  -9. -12.]\n",
      " [  0.   0.  -5.]]\n",
      "A spectral conditionality number:  5.131072133050548\n",
      "L spectral conditionality number:  23.999999999999996\n",
      "U spectral conditionality number:  17.62960473076362\n"
     ]
    }
   ],
   "source": [
    "a_matrix = np.array([[1, 2, 3],\n",
    "                   [4, -1, 0],\n",
    "                   [-2, 5, 1]])\n",
    "\n",
    "right_side = np.array([14, 2, 11])\n",
    "\n",
    "l_matrix, u_matrix = decompose_to_lu(a_matrix)\n",
    "x_vector = solve_with_lu(l_matrix, u_matrix, right_side)\n",
    "\n",
    "print(\"The answer: \\n\", x_vector)\n",
    "print(\"L: \\n\", l_matrix)\n",
    "print(\"U: \\n\", u_matrix)\n",
    "\n",
    "print(\"A spectral conditionality number: \", calculate_spectral_conditionality_number(a_matrix))\n",
    "print(\"L spectral conditionality number: \", calculate_spectral_conditionality_number(l_matrix))\n",
    "print(\"U spectral conditionality number: \", calculate_spectral_conditionality_number(u_matrix))"
   ]
  },
  {
   "cell_type": "markdown",
   "metadata": {},
   "source": [
    "### Test 2\n",
    "#### Vandermonde matrix\n",
    "\n",
    "\\begin{bmatrix}\n",
    "1 & x_0 & x_0^2 & \\dots & x_0^n\\\\\n",
    "1 & x_1 & x_1^2 & \\dots & x_1^n\\\\\n",
    "1 & x_2 & x_2^2 & \\dots & x_2^n\\\\\n",
    "\\vdots & \\vdots & \\vdots & \\ddots &\\vdots \\\\\n",
    "1 & x_m & x_m^2 & \\dots & x_m^n\n",
    "\\end{bmatrix}"
   ]
  },
  {
   "cell_type": "code",
   "execution_count": 117,
   "metadata": {},
   "outputs": [
    {
     "name": "stdout",
     "output_type": "stream",
     "text": [
      "A:  [[  1   1   1   1   1]\n",
      " [  1   2   4   8  16]\n",
      " [  1   3   9  27  81]\n",
      " [  1   4  16  64 256]\n",
      " [  1   5  25 125 625]]\n",
      "b:  [  2.65841781  18.08485646  78.11737952 232.94907979 552.06119253]\n",
      "L: \n",
      "[[1. 0. 0. 0. 0.]\n",
      " [1. 1. 0. 0. 0.]\n",
      " [1. 2. 1. 0. 0.]\n",
      " [1. 3. 3. 1. 0.]\n",
      " [1. 4. 6. 4. 1.]]\n",
      "U: \n",
      "[[ 1.  1.  1.  1.  1.]\n",
      " [ 0.  1.  3.  7. 15.]\n",
      " [ 0.  0.  2. 12. 50.]\n",
      " [ 0.  0.  0.  6. 60.]\n",
      " [ 0.  0.  0.  0. 24.]]\n",
      "Allright! LU = A\n",
      "A spectral conditionality number:  26232.060161422698\n",
      "L spectral conditionality number:  99.0\n",
      "U spectral conditionality number:  373.66951474531606\n",
      "Result: \n",
      "[0.93311323 0.35435205 0.23849048 0.32878945 0.8036726 ]\n",
      "Result is correct!\n"
     ]
    }
   ],
   "source": [
    "matrix_size = 5\n",
    "a_matrix = np.vander(np.arange(1, matrix_size + 1), increasing=True)\n",
    "print(\"A: \", a_matrix)\n",
    "x_vector = np.array(np.random.rand(matrix_size))\n",
    "b_vector = np.matmul(a_matrix, x_vector)\n",
    "print(\"b: \", b_vector)\n",
    "\n",
    "l_matrix, u_matrix = decompose_to_lu(a_matrix)\n",
    "print(\"L: \")\n",
    "print(l_matrix)\n",
    "print(\"U: \")\n",
    "print(u_matrix)\n",
    "lu = np.matmul(l_matrix, u_matrix)\n",
    "print(\"Allright! LU = A\" if (lu == a_matrix).all() else \"Error! LU != A\")\n",
    "\n",
    "print(\"A spectral conditionality number: \", calculate_spectral_conditionality_number(a_matrix))\n",
    "print(\"L spectral conditionality number: \", calculate_spectral_conditionality_number(l_matrix))\n",
    "print(\"U spectral conditionality number: \", calculate_spectral_conditionality_number(u_matrix))\n",
    "\n",
    "result = solve_with_lu(l_matrix, u_matrix, b_vector)\n",
    "print(\"Result: \")\n",
    "print(result)\n",
    "print(\"Result is correct!\" if np.allclose(result, x_vector) else \"Result is NOT correct!\")"
   ]
  },
  {
   "cell_type": "markdown",
   "metadata": {},
   "source": [
    "### Test 3\n",
    "#### Well-conditioned matrix"
   ]
  },
  {
   "cell_type": "code",
   "execution_count": 197,
   "metadata": {},
   "outputs": [
    {
     "name": "stdout",
     "output_type": "stream",
     "text": [
      "A: \n",
      " [[0.01815358 0.87119148 0.38989192 0.38171046 0.86530286]\n",
      " [0.19139962 0.47903004 0.74032731 0.91228514 0.73378439]\n",
      " [0.42563081 0.42187261 0.03642776 0.54304968 0.075887  ]\n",
      " [0.10728464 0.37853158 0.83888271 0.07936674 0.10683945]\n",
      " [0.36506328 0.22829807 0.20042344 0.11509036 0.78373038]]\n",
      "b:  [0.82022178 0.9184972  0.40014029 0.57474401 0.48907623]\n",
      "L: \n",
      "[[ 1.          0.          0.          0.          0.        ]\n",
      " [10.54335137  1.          0.          0.          0.        ]\n",
      " [23.44610234  2.29768005  1.          0.          0.        ]\n",
      " [ 5.90983239  0.54788976 -0.28020981  1.          0.        ]\n",
      " [20.10970739  1.98605737  0.69538807  0.61561092  1.        ]]\n",
      "U: \n",
      "[[ 0.01815358  0.87119148  0.38989192  0.38171046  0.86530286]\n",
      " [ 0.         -8.70624787 -3.37044023 -3.11222231 -8.38940768]\n",
      " [ 0.          0.         -1.36082488 -1.2556816  -0.93591769]\n",
      " [ 0.          0.          0.         -0.82317764 -0.67273816]\n",
      " [ 0.          0.          0.          0.          1.10955899]]\n",
      "Allright! LU = A\n",
      "A spectral conditionality number:  9.945571357150596\n",
      "L spectral conditionality number:  373.23569382851736\n",
      "U spectral conditionality number:  735.4530542054339\n",
      "Result: \n",
      "[0.22063187 0.39534139 0.42621605 0.19059047 0.26911953]\n",
      "Result is correct!\n"
     ]
    }
   ],
   "source": [
    "matrix_size = 5\n",
    "a_matrix = generate_matrix_with_nonzero_major_minors(5)\n",
    "while calculate_spectral_conditionality_number(a_matrix) > 10:\n",
    "    a_matrix = generate_matrix_with_nonzero_major_minors(5)\n",
    "print(\"A: \\n\", a_matrix)\n",
    "x_vector = np.array(np.random.rand(matrix_size))\n",
    "b_vector = np.matmul(a_matrix, x_vector)\n",
    "print(\"b: \", b_vector)\n",
    "\n",
    "l_matrix, u_matrix = decompose_to_lu(a_matrix)\n",
    "print(\"L: \")\n",
    "print(l_matrix)\n",
    "print(\"U: \")\n",
    "print(u_matrix)\n",
    "lu = np.matmul(l_matrix, u_matrix)\n",
    "print(\"Allright! LU = A\" if np.allclose(lu, a_matrix) else \"Error! LU != A\")\n",
    "\n",
    "print(\"A spectral conditionality number: \", calculate_spectral_conditionality_number(a_matrix))\n",
    "print(\"L spectral conditionality number: \", calculate_spectral_conditionality_number(l_matrix))\n",
    "print(\"U spectral conditionality number: \", calculate_spectral_conditionality_number(u_matrix))\n",
    "\n",
    "result = solve_with_lu(l_matrix, u_matrix, b_vector)\n",
    "print(\"Result: \")\n",
    "print(result)\n",
    "print(\"Result is correct!\" if np.allclose(result, x_vector) else \"Result is NOT correct!\")"
   ]
  }
 ],
 "metadata": {
  "kernelspec": {
   "display_name": "base",
   "language": "python",
   "name": "python3"
  },
  "language_info": {
   "codemirror_mode": {
    "name": "ipython",
    "version": 3
   },
   "file_extension": ".py",
   "mimetype": "text/x-python",
   "name": "python",
   "nbconvert_exporter": "python",
   "pygments_lexer": "ipython3",
   "version": "3.9.15"
  }
 },
 "nbformat": 4,
 "nbformat_minor": 2
}
